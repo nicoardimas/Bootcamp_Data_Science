{
 "cells": [
  {
   "cell_type": "markdown",
   "metadata": {},
   "source": [
    "# Membuat Multi-line Chart dan Kustomisasi Lanjutan"
   ]
  },
  {
   "cell_type": "code",
   "execution_count": null,
   "metadata": {},
   "outputs": [],
   "source": [
    "# Membuat Multi-Line Chart\n",
    "# Import library\n",
    "import datetime\n",
    "import pandas as pd\n",
    "import matplotlib.pyplot as plt\n",
    "# Baca dataset\n",
    "dataset = pd.read_csv('https://storage.googleapis.com/dqlab-dataset/retail_raw_reduced.csv')\n",
    "# Buat kolom baru yang bertipe datetime dalam format '%Y-%m'\n",
    "dataset['order_month'] = dataset['order_date'].apply(lambda x: datetime.datetime.strptime(x, \"%Y-%m-%d\").strftime('%Y-%m'))\n",
    "# Buat Kolom GMV\n",
    "dataset['gmv'] = dataset['item_price']*dataset['quantity']\n",
    "\n",
    "# Buat Multi-Line Chart\n",
    "dataset.groupby(['order_month','brand'])['gmv'].sum().unstack().plot()\n",
    "plt.title('Monthly GMV Year 2019 - Breakdown by Brand', loc='center', pad=30, fontsize=20, color='blue')\n",
    "plt.xlabel('Order Month', fontsize = 15)\n",
    "plt.ylabel('Total Amount (in Billions)',fontsize = 15)\n",
    "plt.grid(color='darkgray', linestyle=':', linewidth=0.5)\n",
    "plt.ylim(ymin=0)\n",
    "labels, locations = plt.yticks()\n",
    "plt.yticks(labels, (labels/1000000000).astype(int))\n",
    "plt.gcf().set_size_inches(10, 5)\n",
    "plt.tight_layout()\n",
    "plt.show()"
   ]
  },
  {
   "cell_type": "code",
   "execution_count": null,
   "metadata": {},
   "outputs": [],
   "source": [
    "# Kustomisasi Legend\n",
    "import matplotlib.pyplot as plt\n",
    "dataset.groupby(['order_month','brand'])['gmv'].sum().unstack().plot()\n",
    "plt.title('Monthly GMV Year 2019 - Breakdown by Brand',loc='center',pad=30, fontsize=20, color='blue')\n",
    "plt.xlabel('Order Month', fontsize = 15)\n",
    "plt.ylabel('Total Amount (in Billions)',fontsize = 15)\n",
    "plt.grid(color='darkgray', linestyle=':', linewidth=0.5)\n",
    "plt.ylim(ymin=0)\n",
    "labels, locations = plt.yticks()\n",
    "plt.yticks(labels, (labels/1000000000).astype(int))\n",
    "plt.legend(loc='right', bbox_to_anchor=(1.6, 0.5), shadow=True, ncol=2)\n",
    "plt.gcf().set_size_inches(12, 5)\n",
    "plt.tight_layout()\n",
    "plt.show()"
   ]
  },
  {
   "cell_type": "code",
   "execution_count": null,
   "metadata": {},
   "outputs": [],
   "source": [
    "# Kustomisasi Colormap\n",
    "import matplotlib.pyplot as plt\n",
    "plt.clf()\n",
    "dataset.groupby(['order_month','province'])['gmv'].sum().unstack().plot(cmap='Set1')\n",
    "plt.title('Monthly GMV Year 2019 - Breakdown by Province',loc='center',pad=30, fontsize=20, color='blue')\n",
    "plt.xlabel('Order Month', fontsize = 15)\n",
    "plt.ylabel('Total Amount (in Billions)',fontsize = 15)\n",
    "plt.grid(color='darkgray', linestyle=':', linewidth=0.5)\n",
    "plt.ylim(ymin=0)\n",
    "labels, locations = plt.yticks()\n",
    "plt.yticks(labels, (labels/1000000000).astype(int))\n",
    "plt.legend(loc='lower center', bbox_to_anchor=(0.5, -0.5), shadow=True, ncol=3, title='Province',fontsize=9, title_fontsize=11)\n",
    "plt.gcf().set_size_inches(10, 5)\n",
    "plt.tight_layout()\n",
    "plt.show()"
   ]
  },
  {
   "cell_type": "code",
   "execution_count": null,
   "metadata": {},
   "outputs": [],
   "source": [
    "# Membuat Line Chart GMV Breakdown by Top Provinces\n",
    "# Buat variabel untuk 5 propinsi dengan GMV tertinggi\n",
    "top_provinces = (dataset.groupby('province')['gmv'].sum().reset_index().sort_values(by='gmv',ascending=False).head(5))\n",
    "print(top_provinces)\n",
    "\n",
    "# Buat satu kolom lagi di dataset dengan nama province_top\n",
    "dataset['province_top'] = dataset['province'].apply(lambda x: x if (x in top_provinces['province'].to_list()) else 'other')\n",
    "\n",
    "# Plot multi-line chartnya\n",
    "import matplotlib.pyplot as plt\n",
    "dataset.groupby(['order_month','province_top'])['gmv'].sum().unstack().plot(marker='.', cmap='plasma')\n",
    "plt.title('Monthly GMV Year 2019 - Breakdown by Province',loc='center',pad=30, fontsize=20, color='blue')\n",
    "plt.xlabel('Order Month', fontsize = 15)\n",
    "plt.ylabel('Total Amount (in Billions)',fontsize = 15)\n",
    "plt.grid(color='darkgray', linestyle=':', linewidth=0.5)\n",
    "plt.ylim(ymin=0)\n",
    "labels, locations = plt.yticks()\n",
    "plt.yticks(labels, (labels/1000000000).astype(int))\n",
    "plt.legend(loc='upper center', bbox_to_anchor=(1.1, 1), shadow=True, ncol=1)\n",
    "plt.gcf().set_size_inches(12, 5)\n",
    "plt.tight_layout()\n",
    "plt.show()"
   ]
  },
  {
   "cell_type": "code",
   "execution_count": null,
   "metadata": {},
   "outputs": [],
   "source": [
    "# Membuat Anotasi\n",
    "import matplotlib.pyplot as plt\n",
    "dataset.groupby(['order_month','province_top'])['gmv'].sum().unstack().plot(marker='.', cmap='plasma')\n",
    "plt.title('Monthly GMV Year 2019 - Breakdown by Province',loc='center',pad=30, fontsize=20, color='blue')\n",
    "plt.xlabel('Order Month', fontsize = 15)\n",
    "plt.ylabel('Total Amount (in Billions)',fontsize = 15)\n",
    "plt.grid(color='darkgray', linestyle=':', linewidth=0.5)\n",
    "plt.ylim(ymin=0)\n",
    "labels, locations = plt.yticks()\n",
    "plt.yticks(labels, (labels/1000000000).astype(int))\n",
    "plt.legend(loc='upper center', bbox_to_anchor=(1.1, 1), shadow=True, ncol=1)\n",
    "# Anotasi pertama\n",
    "plt.annotate('GMV other meningkat pesat', xy=(5, 900000000), xytext=(4, 1700000000), weight='bold', color='red',\n",
    "             arrowprops=dict(arrowstyle='fancy', connectionstyle=\"arc3\", color='red'))\n",
    "# Anotasi kedua\n",
    "plt.annotate('DKI Jakarta mendominasi', xy=(3, 3350000000), xytext=(0, 3700000000), weight='bold', color='red',\n",
    "             arrowprops=dict(arrowstyle='->', connectionstyle=\"angle\", color='red'))\n",
    "plt.gcf().set_size_inches(12, 5)\n",
    "plt.tight_layout()\n",
    "plt.show()"
   ]
  },
  {
   "cell_type": "markdown",
   "metadata": {},
   "source": [
    "# Membuat Pie-Chart dan Bar-Chart"
   ]
  },
  {
   "cell_type": "code",
   "execution_count": null,
   "metadata": {},
   "outputs": [],
   "source": [
    "# Membuat Subset Data\n",
    "dataset_dki_q4 = dataset[(dataset['province']=='DKI Jakarta') & (dataset['order_month'] >= '2019-10')]\n",
    "print(dataset_dki_q4.head())"
   ]
  },
  {
   "cell_type": "code",
   "execution_count": null,
   "metadata": {},
   "outputs": [],
   "source": [
    "# Membuat Pie Chart\n",
    "import matplotlib.pyplot as plt\n",
    "gmv_per_city_dki_q4 = dataset_dki_q4.groupby('city')['gmv'].sum().reset_index()\n",
    "plt.figure(figsize=(6,6))\n",
    "plt.pie(gmv_per_city_dki_q4['gmv'], labels = gmv_per_city_dki_q4['city'],autopct='%1.2f%%')\n",
    "plt.title('GMV Contribution Per City - DKI Jakarta in Q4 2019',loc='center',pad=30, fontsize=15, color='blue')\n",
    "plt.show()"
   ]
  },
  {
   "cell_type": "code",
   "execution_count": null,
   "metadata": {},
   "outputs": [],
   "source": [
    "# Membuat Bar Chart\n",
    "import matplotlib.pyplot as plt\n",
    "plt.clf()\n",
    "dataset_dki_q4.groupby('city')['gmv'].sum().sort_values(ascending=False).plot(kind='bar', color='green')\n",
    "plt.title('GMV Per City - DKI Jakarta in Q4 2019',loc='center',pad=30, fontsize=15, color='blue')\n",
    "plt.xlabel('City', fontsize = 15)\n",
    "plt.ylabel('Total Amount (in Billions)',fontsize = 15)\n",
    "plt.ylim(ymin=0)\n",
    "labels, locations = plt.yticks()\n",
    "plt.yticks(labels, (labels/1000000000).astype(int))\n",
    "plt.xticks(rotation=0)\n",
    "plt.show()"
   ]
  },
  {
   "cell_type": "code",
   "execution_count": null,
   "metadata": {},
   "outputs": [],
   "source": [
    "# Membuat Multi-Bar Chart\n",
    "import matplotlib.pyplot as plt\n",
    "dataset_dki_q4.groupby(['city','order_month'])['gmv'].sum().unstack().plot(kind='bar')\n",
    "plt.title('GMV Per City, Breakdown by Month\\nDKI Jakarta in Q4 2019',loc='center',pad=30, fontsize=15, color='blue')\n",
    "plt.xlabel('Province', fontsize = 12)\n",
    "plt.ylabel('Total Amount (in Billions)',fontsize = 12)\n",
    "plt.legend(bbox_to_anchor=(1, 1), shadow=True, title='Month')\n",
    "plt.ylim(ymin=0)\n",
    "labels, locations = plt.yticks()\n",
    "plt.yticks(labels, (labels/1000000000).astype(int))\n",
    "plt.xticks(rotation=45)\n",
    "plt.tight_layout()\n",
    "plt.show()"
   ]
  },
  {
   "cell_type": "code",
   "execution_count": null,
   "metadata": {},
   "outputs": [],
   "source": [
    "# Membuat Stacked Chart\n",
    "import matplotlib.pyplot as plt\n",
    "dataset_dki_q4.groupby(['order_month','city'])['gmv'].sum().sort_values(ascending=False).unstack().plot(kind='bar', stacked=True)\n",
    "plt.title('GMV Per Month, Breakdown by City\\nDKI Jakarta in Q4 2019',loc='center',pad=30, fontsize=15, color='blue')\n",
    "plt.xlabel('Order Month', fontsize = 12)\n",
    "plt.ylabel('Total Amount (in Billions)',fontsize = 12)\n",
    "plt.legend(bbox_to_anchor=(1, 1), shadow=True, ncol=1,title='City')\n",
    "plt.ylim(ymin=0)\n",
    "labels, locations = plt.yticks()\n",
    "plt.yticks(labels, (labels/1000000000).astype(int))\n",
    "plt.xticks(rotation=0)\n",
    "plt.tight_layout()\n",
    "plt.show()"
   ]
  },
  {
   "cell_type": "markdown",
   "metadata": {},
   "source": [
    "# Membuat Histogram dan Scatterplot"
   ]
  },
  {
   "cell_type": "code",
   "execution_count": null,
   "metadata": {},
   "outputs": [],
   "source": [
    "# Membuat Agregat Data Customer\n",
    "data_per_customer = (dataset_dki_q4.groupby('customer_id')\n",
    "                     .agg({'order_id':'nunique', 'quantity': 'sum', 'gmv':'sum'})\n",
    "                     .reset_index()\n",
    "                     .rename(columns={'order_id':'orders'}))\n",
    "print(data_per_customer.sort_values(by='orders',ascending=False))"
   ]
  },
  {
   "cell_type": "code",
   "execution_count": null,
   "metadata": {},
   "outputs": [],
   "source": [
    "# Membuat Histogram - Part 1\n",
    "import matplotlib.pyplot as plt\n",
    "plt.clf()\n",
    "# Histogram pertama\n",
    "plt.figure()\n",
    "plt.hist(data_per_customer['orders'])\n",
    "plt.show()\n",
    "# Histogram kedua\n",
    "plt.figure()\n",
    "plt.hist(data_per_customer['orders'], range=(1,5))\n",
    "plt.title('Distribution of Number of Orders per Customer\\nDKI Jakarta in Q4 2019',fontsize=15, color='blue')\n",
    "plt.xlabel('Number of Orders', fontsize = 12)\n",
    "plt.ylabel('Number of Customers', fontsize = 12)\n",
    "plt.show()"
   ]
  },
  {
   "cell_type": "code",
   "execution_count": null,
   "metadata": {},
   "outputs": [],
   "source": [
    "# Membuat Histogram - Part 2\n",
    "import matplotlib.pyplot as plt\n",
    "plt.figure(figsize=(10,5))\n",
    "plt.hist(data_per_customer['quantity'], bins=100, range=(1,200), color='brown')\n",
    "plt.title('Distribution of Total Quantity per Customer\\nDKI Jakarta in Q4 2019',fontsize=15, color='blue')\n",
    "plt.xlabel('Quantity', fontsize = 12)\n",
    "plt.ylabel('Number of Customers',fontsize = 12)\n",
    "plt.xlim(xmin=0,xmax=200)\n",
    "plt.show()"
   ]
  },
  {
   "cell_type": "code",
   "execution_count": null,
   "metadata": {},
   "outputs": [],
   "source": [
    "# Membuat Histogram - Part 3\n",
    "import matplotlib.pyplot as plt\n",
    "plt.figure(figsize=(10,5))\n",
    "plt.hist(data_per_customer['gmv'], bins=100, range=(1,200000000), color='green')\n",
    "plt.title('Distribution of Total GMV per Customer\\nDKI Jakarta in Q4 2019',fontsize=15, color='blue')\n",
    "plt.xlabel('GMV (in Millions)', fontsize = 12)\n",
    "plt.ylabel('Number of Customers',fontsize = 12)\n",
    "plt.xlim(xmin=0,xmax=200000000)\n",
    "labels, locations = plt.xticks()\n",
    "plt.xticks(labels, (labels/1000000).astype(int))\n",
    "plt.show()"
   ]
  },
  {
   "cell_type": "code",
   "execution_count": null,
   "metadata": {},
   "outputs": [],
   "source": [
    "# Membuat Scatterplot\n",
    "import matplotlib.pyplot as plt\n",
    "plt.clf()\n",
    "# Scatterplot pertama\n",
    "plt.figure()\n",
    "plt.scatter(data_per_customer['quantity'], data_per_customer['gmv'])\n",
    "plt.show()\n",
    "# Scatterplot kedua: perbaikan scatterplot pertama\n",
    "plt.figure(figsize=(10,8))\n",
    "plt.scatter(data_per_customer['quantity'],data_per_customer['gmv'], marker='+', color='red')\n",
    "plt.title('Correlation of Quantity and GMV per Customer\\nDKI Jakarta in Q4 2019',fontsize=15, color='blue')\n",
    "plt.xlabel('Quantity', fontsize = 12)\n",
    "plt.ylabel('GMV (in Millions)',fontsize = 12)\n",
    "plt.xlim(xmin=0,xmax=300)\n",
    "plt.ylim(ymin=0,ymax=150000000)\n",
    "labels, locations = plt.yticks()\n",
    "plt.yticks(labels, (labels/1000000).astype(int))\n",
    "plt.show()"
   ]
  },
  {
   "cell_type": "markdown",
   "metadata": {},
   "source": [
    "# Mini Project"
   ]
  },
  {
   "cell_type": "code",
   "execution_count": null,
   "metadata": {},
   "outputs": [],
   "source": [
    "# Baca dataset\n",
    "import pandas as pd\n",
    "dataset = pd.read_csv('https://storage.googleapis.com/dqlab-dataset/retail_raw_reduced.csv')"
   ]
  },
  {
   "cell_type": "code",
   "execution_count": null,
   "metadata": {},
   "outputs": [],
   "source": [
    "# Case 1: Menentukan brand top 5\n",
    "#mengambil informasi top 5 brands berdasarkan quantity\n",
    "top_brands = (dataset[dataset['order_month'] == '2019-12'].groupby('brand')['quantity']\n",
    "                .sum()\n",
    "                .reset_index()\n",
    "                .sort_values(by = 'quantity', ascending = False)\n",
    "                .head(5))\n",
    "\n",
    "#membuat dataframe baru, filter hanya di bulan Desember 2019 dan hanya top 5 brands\n",
    "dataset_top5brand_dec = dataset[(dataset['order_month'] == '2019-12') & (dataset['brand'].isin(top_brands['brand'].to_list()))]\n",
    "\n",
    "# print top brands\n",
    "print(top_brands)"
   ]
  },
  {
   "cell_type": "code",
   "execution_count": null,
   "metadata": {},
   "outputs": [],
   "source": [
    "# Case 2: Multi-line chart daily quantity untuk brand top 5\n",
    "import matplotlib.pyplot as plt\n",
    "dataset_top5brand_dec.groupby(['order_date','brand'])['quantity'].sum().unstack().plot(marker = '.', cmap = 'plasma')\n",
    "plt.title('Daily Sold Quantity Dec 2019 - Breakdown by Brands', loc = 'center', pad = 30, fontsize = 15, color = 'blue')\n",
    "plt.xlabel('Order Date', fontsize = 12)\n",
    "plt.ylabel('Quantity', fontsize = 12)\n",
    "plt.grid(color = 'darkgray', linestyle = ':', linewidth = 0.5)\n",
    "plt.ylim(ymin = 0)\n",
    "plt.legend(loc = 'upper center', bbox_to_anchor = (1.1, 1), shadow = True, ncol = 1)\n",
    "plt.annotate('Terjadi lonjakan', xy = (7, 310), xytext = (8, 300), weight = 'bold', color = 'red',\n",
    "             arrowprops = dict(arrowstyle = '->', connectionstyle = \"arc3\", color = 'red'))\n",
    "plt.gcf().set_size_inches(10, 5)\n",
    "plt.tight_layout()\n",
    "plt.show()"
   ]
  },
  {
   "cell_type": "code",
   "execution_count": null,
   "metadata": {},
   "outputs": [],
   "source": [
    "# Case 3: Kuantitas penjualan brand top 5 selama Desember 2019\n",
    "import matplotlib.pyplot as plt\n",
    "plt.clf()\n",
    "dataset_top5brand_dec.groupby('brand')['product_id'].nunique().sort_values(ascending = False).plot(kind = 'bar', color = 'green')\n",
    "plt.title('Number of Sold Products per Brand, December 2019', loc = 'center', pad = 30, fontsize = 15, color = 'blue')\n",
    "plt.xlabel('Brand', fontsize = 15)\n",
    "plt.ylabel('Number of Products',fontsize = 15)\n",
    "plt.ylim(ymin = 0)\n",
    "plt.xticks(rotation = 0)\n",
    "plt.show()"
   ]
  },
  {
   "cell_type": "code",
   "execution_count": null,
   "metadata": {},
   "outputs": [],
   "source": [
    "# Case 4: Penjulan produk diatas 100 dan dibawah 100 selama Desember 2019\n",
    "import matplotlib.pyplot as plt\n",
    "#membuat dataframe baru, untuk agregat jumlah quantity terjual per product\n",
    "dataset_top5brand_dec_per_product = dataset_top5brand_dec.groupby(['brand', 'product_id'])['quantity'].sum().reset_index()\n",
    "\n",
    "#beri kolom baru untuk menandai product yang terjual >= 100 dan <100\n",
    "dataset_top5brand_dec_per_product['quantity_group'] = dataset_top5brand_dec_per_product['quantity'].apply(\n",
    "    lambda x: '>= 100' if x >= 100 else '< 100')\n",
    "dataset_top5brand_dec_per_product.sort_values('quantity', ascending = False, inplace = True)\n",
    "\n",
    "#membuat referensi pengurutan brand berdasarkan banyaknya semua product\n",
    "s_sort = dataset_top5brand_dec_per_product.groupby('brand')['product_id'].nunique().sort_values(ascending = False)\n",
    "\n",
    "#plot stacked barchart\n",
    "dataset_top5brand_dec_per_product.groupby(['brand','quantity_group'])['product_id'].nunique().reindex(\n",
    "    index = s_sort.index, level = 'brand').unstack().plot(kind = 'bar', stacked = True)\n",
    "plt.title('Number of Sold Products per Brand, December 2019', loc = 'center', pad = 30, fontsize = 15, color = 'blue')\n",
    "plt.xlabel('Brand', fontsize = 15)\n",
    "plt.ylabel('Number of Products', fontsize = 15)\n",
    "plt.ylim(ymin = 0)\n",
    "plt.xticks(rotation = 0)\n",
    "plt.show()"
   ]
  },
  {
   "cell_type": "code",
   "execution_count": null,
   "metadata": {},
   "outputs": [],
   "source": [
    "# Case 5: Murah atau mahalkah harga produk brand top 5\n",
    "import matplotlib.pyplot as plt\n",
    "plt.figure(figsize = (10, 5))\n",
    "plt.hist(dataset_top5brand_dec.groupby('product_id')['item_price'].median(), bins = 10, stacked = True,\n",
    "         range = (1, 2000000), color = 'green')\n",
    "plt.title('Distribution of Price Median per Product\\nTop 5 Brands in Dec 2019', fontsize = 15, color = 'blue')\n",
    "plt.xlabel('Price Median', fontsize = 12)\n",
    "plt.ylabel('Number of Products', fontsize = 12)\n",
    "plt.xlim(xmin = 0, xmax = 2000000)\n",
    "plt.show()"
   ]
  },
  {
   "cell_type": "code",
   "execution_count": null,
   "metadata": {},
   "outputs": [],
   "source": [
    "# Case 6a: Korelasi quantity vs GMV\n",
    "import matplotlib.pyplot as plt\n",
    "#agregat per product\n",
    "data_per_product_top5brand_dec = dataset_top5brand_dec.groupby('product_id').agg({'quantity': 'sum', 'gmv':'sum',\n",
    "                                                                                  'item_price':'median'}).reset_index()\n",
    "\n",
    "#scatter plot\n",
    "plt.figure(figsize = (10, 8))\n",
    "plt.scatter(data_per_product_top5brand_dec['quantity'],data_per_product_top5brand_dec['gmv'], marker = '+', color = 'red')\n",
    "plt.title('Correlation of Quantity and GMV per Product\\nTop 5 Brands in December 2019', fontsize = 15, color = 'blue')\n",
    "plt.xlabel('Quantity', fontsize = 12)\n",
    "plt.ylabel('GMV (in Millions)', fontsize = 12)\n",
    "plt.xlim(xmin = 0, xmax = 300)\n",
    "plt.ylim(ymin = 0, ymax = 200000000)\n",
    "labels, locations = plt.yticks()\n",
    "plt.yticks(labels, (labels/1000000).astype(int))\n",
    "plt.show()"
   ]
  },
  {
   "cell_type": "code",
   "execution_count": null,
   "metadata": {},
   "outputs": [],
   "source": [
    "# Case 6b: Korelasi median harga vs quantity\n",
    "import matplotlib.pyplot as plt\n",
    "plt.clf()\n",
    "#agregat per product\n",
    "data_per_product_top5brand_dec = dataset_top5brand_dec.groupby('product_id').agg({'quantity': 'sum', 'gmv':'sum',\n",
    "                                                                                  'item_price':'median'}).reset_index()\n",
    "\n",
    "#scatter plot\n",
    "plt.figure(figsize = (10, 8))\n",
    "plt.scatter(data_per_product_top5brand_dec['item_price'],data_per_product_top5brand_dec['quantity'],\n",
    "            marker = 'o', color = 'green')\n",
    "plt.title('Correlation of Quantity and GMV per Product\\nTop 5 Brands in December 2019', fontsize = 15, color = 'blue')\n",
    "plt.xlabel('Price Median', fontsize = 12)\n",
    "plt.ylabel('Quantity', fontsize = 12)\n",
    "plt.xlim(xmin = 0, xmax = 2000000)\n",
    "plt.ylim(ymin = 0, ymax = 250)\n",
    "plt.show()"
   ]
  }
 ],
 "metadata": {
  "kernelspec": {
   "display_name": "Python 3",
   "language": "python",
   "name": "python3"
  },
  "language_info": {
   "codemirror_mode": {
    "name": "ipython",
    "version": 3
   },
   "file_extension": ".py",
   "mimetype": "text/x-python",
   "name": "python",
   "nbconvert_exporter": "python",
   "pygments_lexer": "ipython3",
   "version": "3.8.5"
  }
 },
 "nbformat": 4,
 "nbformat_minor": 4
}
